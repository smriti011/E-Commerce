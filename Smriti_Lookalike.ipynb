{
 "cells": [
  {
   "cell_type": "code",
   "execution_count": 2,
   "id": "13e9cb27-62c8-45a5-b98c-b8fa858796e0",
   "metadata": {},
   "outputs": [],
   "source": [
    "# import libraries\n",
    "\n",
    "import pandas as pd\n",
    "from sklearn.metrics.pairwise import cosine_similarity\n",
    "from sklearn.preprocessing import StandardScaler\n"
   ]
  },
  {
   "cell_type": "code",
   "execution_count": 3,
   "id": "003d34ff-bda4-4ecf-a167-11eb5fd95d14",
   "metadata": {},
   "outputs": [],
   "source": [
    "# Data Preparation : Load Datasets\n",
    "\n",
    "customers_df = pd.read_csv('Customers.csv')\n",
    "products_df = pd.read_csv('Products.csv')\n",
    "transactions_df = pd.read_csv('Transactions.csv')\n"
   ]
  },
  {
   "cell_type": "code",
   "execution_count": 4,
   "id": "bb34d579-999c-4964-a0e8-0ac06df72980",
   "metadata": {},
   "outputs": [],
   "source": [
    "# Preprocess the data\n",
    "\n",
    "customers_df['SignupDate'] = pd.to_datetime(customers_df['SignupDate'])     # Convert 'SignupDate' column in the customers DataFrame to datetime objects.\n",
    "\n",
    "transactions_df['TransactionDate'] = pd.to_datetime(transactions_df['TransactionDate'])  # This conversion is necessary for accurate date calculations and filtering.\n"
   ]
  },
  {
   "cell_type": "code",
   "execution_count": 5,
   "id": "54f33b4b-da51-4528-8cd7-c20297c453c7",
   "metadata": {},
   "outputs": [],
   "source": [
    "# Group transactions by 'CustomerID' & aggregate the data.\n",
    "# Calculate sum, mean, & count of 'TotalValue' for each customer.\n",
    "# Calculate sum of 'Quantity' for each customer.\n",
    "\n",
    "customer_transactions = transactions_df.groupby('CustomerID').agg({\n",
    "    'TotalValue': ['sum', 'mean', 'count'],\n",
    "    'Quantity': 'sum'}).reset_index()\n",
    "\n",
    "customer_transactions.columns = ['CustomerID', 'TotalSpending', 'AverageSpending', 'TransactionCount', 'TotalQuantity']\n"
   ]
  },
  {
   "cell_type": "code",
   "execution_count": 6,
   "id": "35b3d3ab-2f05-48a6-9797-6e65aa50acd7",
   "metadata": {},
   "outputs": [],
   "source": [
    "# Merge customer profiles with customers data\n",
    "\n",
    "customer_profiles = pd.merge(customers_df, customer_transactions, on='CustomerID', how='left').fillna(0)\n"
   ]
  },
  {
   "cell_type": "code",
   "execution_count": 7,
   "id": "96ee479c-5daf-4bd8-9020-277e35334f0f",
   "metadata": {},
   "outputs": [],
   "source": [
    "# Encode categorical data \n",
    "\n",
    "customer_profiles = pd.get_dummies(customer_profiles, columns=['Region'])\n"
   ]
  },
  {
   "cell_type": "code",
   "execution_count": 8,
   "id": "f9ad9eb7-89eb-463d-8f69-88b57cff7283",
   "metadata": {},
   "outputs": [],
   "source": [
    "# Scale numerical features\n",
    "\n",
    "scaler = StandardScaler()\n",
    "numerical_features = ['TotalSpending', 'AverageSpending', 'TransactionCount', 'TotalQuantity']\n",
    "customer_profiles[numerical_features] = scaler.fit_transform(customer_profiles[numerical_features])\n"
   ]
  },
  {
   "cell_type": "code",
   "execution_count": 9,
   "id": "2ecc4daa-d3f3-4915-846e-5fcf16520ccf",
   "metadata": {},
   "outputs": [],
   "source": [
    "# Compute the cosine similarity between customer profiles\n",
    "\n",
    "similarities = cosine_similarity(customer_profiles[numerical_features + list(customer_profiles.columns[5:])])\n",
    "similarities_df = pd.DataFrame(similarities, index=customer_profiles['CustomerID'], columns=customer_profiles['CustomerID'])\n"
   ]
  },
  {
   "cell_type": "code",
   "execution_count": 10,
   "id": "ad39fb50-de3c-4896-b40e-dc07b5d96809",
   "metadata": {},
   "outputs": [],
   "source": [
    "# Generate recommendations\n",
    "\n",
    "lookalike = {}\n",
    "for cust_id in customer_profiles['CustomerID']:\n",
    "    similar_customers = similarities_df[cust_id].sort_values(ascending=False).index[1:4]\n",
    "    scores = similarities_df[cust_id].sort_values(ascending=False)[1:4]\n",
    "    lookalike[cust_id] = list(zip(similar_customers, scores))\n"
   ]
  },
  {
   "cell_type": "code",
   "execution_count": 11,
   "id": "fad95c18-bf66-4ec0-b020-378708c89dd4",
   "metadata": {},
   "outputs": [],
   "source": [
    "# Create Lookalike.csv file\n",
    "\n",
    "lookalike_df = pd.DataFrame.from_dict(lookalike, orient='index')\n",
    "\n",
    "lookalike_df.to_csv('Lookalike.csv', header=False)\n"
   ]
  },
  {
   "cell_type": "code",
   "execution_count": 12,
   "id": "e31f766c-10a0-4247-92c0-5640c779d7ac",
   "metadata": {},
   "outputs": [
    {
     "name": "stdout",
     "output_type": "stream",
     "text": [
      "CustomerID: C0001, Lookalikes: [('C0137', 0.9775593421705276), ('C0107', 0.9660981110817161), ('C0191', 0.932692486075793)]\n",
      "CustomerID: C0002, Lookalikes: [('C0142', 0.9748396492131094), ('C0043', 0.9543209037226013), ('C0088', 0.929764143050988)]\n",
      "CustomerID: C0003, Lookalikes: [('C0133', 0.8482394430385068), ('C0190', 0.8193027937100822), ('C0052', 0.7641516214061519)]\n",
      "CustomerID: C0004, Lookalikes: [('C0113', 0.9919831325606134), ('C0165', 0.9867413425381364), ('C0102', 0.9754527861886699)]\n",
      "CustomerID: C0005, Lookalikes: [('C0159', 0.9959183324911365), ('C0123', 0.9890116006667962), ('C0186', 0.9848296329665001)]\n",
      "CustomerID: C0006, Lookalikes: [('C0168', 0.9769246041520829), ('C0187', 0.8983433828756263), ('C0158', 0.8903363665399748)]\n",
      "CustomerID: C0007, Lookalikes: [('C0140', 0.9856485193635803), ('C0080', 0.9677590962178623), ('C0110', 0.964727389608303)]\n",
      "CustomerID: C0008, Lookalikes: [('C0109', 0.9210320015533267), ('C0084', 0.9170504836555459), ('C0194', 0.9129184183036483)]\n",
      "CustomerID: C0009, Lookalikes: [('C0060', 0.9730419867823863), ('C0014', 0.9648148255705727), ('C0198', 0.963540887931648)]\n",
      "CustomerID: C0010, Lookalikes: [('C0121', 0.9276959788072955), ('C0199', 0.9170983995306603), ('C0166', 0.9034315625131466)]\n",
      "CustomerID: C0011, Lookalikes: [('C0048', 0.9719670873212661), ('C0107', 0.970743607214451), ('C0001', 0.9107317608157949)]\n",
      "CustomerID: C0012, Lookalikes: [('C0102', 0.9912074575852023), ('C0104', 0.9845599186357945), ('C0155', 0.9824218413407062)]\n",
      "CustomerID: C0013, Lookalikes: [('C0188', 0.990596387037145), ('C0099', 0.9856368601103705), ('C0155', 0.9847253449636422)]\n",
      "CustomerID: C0014, Lookalikes: [('C0198', 0.9910712710833562), ('C0060', 0.9820783347483981), ('C0062', 0.9674302711787652)]\n",
      "CustomerID: C0015, Lookalikes: [('C0131', 0.9871986878078868), ('C0058', 0.9870891162512142), ('C0036', 0.9805854184694682)]\n",
      "CustomerID: C0016, Lookalikes: [('C0183', 0.932788628370165), ('C0125', 0.8132928208062773), ('C0026', 0.7764928199106974)]\n",
      "CustomerID: C0017, Lookalikes: [('C0124', 0.9903084060679378), ('C0075', 0.9763845352884882), ('C0109', 0.9248156762119638)]\n",
      "CustomerID: C0018, Lookalikes: [('C0046', 0.8001480864296933), ('C0114', 0.7911744883306018), ('C0148', 0.7901555581816044)]\n",
      "CustomerID: C0019, Lookalikes: [('C0172', 0.9935199055926938), ('C0127', 0.9004315362543602), ('C0119', 0.8730348831949434)]\n",
      "CustomerID: C0020, Lookalikes: [('C0042', 0.9689833552158763), ('C0078', 0.9346016987163526), ('C0080', 0.9321966625722273)]\n"
     ]
    }
   ],
   "source": [
    "# Display the top 3 lookalikes for first 20 customers\n",
    "\n",
    "for cust_id in customer_profiles['CustomerID'][:20]:\n",
    "    print(f\"CustomerID: {cust_id}, Lookalikes: {lookalike[cust_id]}\")"
   ]
  }
 ],
 "metadata": {
  "kernelspec": {
   "display_name": "Python 3 (ipykernel)",
   "language": "python",
   "name": "python3"
  },
  "language_info": {
   "codemirror_mode": {
    "name": "ipython",
    "version": 3
   },
   "file_extension": ".py",
   "mimetype": "text/x-python",
   "name": "python",
   "nbconvert_exporter": "python",
   "pygments_lexer": "ipython3",
   "version": "3.12.4"
  }
 },
 "nbformat": 4,
 "nbformat_minor": 5
}

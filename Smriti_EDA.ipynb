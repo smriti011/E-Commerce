{
 "cells": [
  {
   "cell_type": "code",
   "execution_count": 1,
   "id": "083f9eb9-29c0-4235-8f21-291e316e6ebd",
   "metadata": {},
   "outputs": [],
   "source": [
    "# import libraries\n",
    "\n",
    "import pandas as pd"
   ]
  },
  {
   "cell_type": "code",
   "execution_count": 2,
   "id": "ba25f8c0-19b4-42b8-9f74-ee641bced89b",
   "metadata": {},
   "outputs": [],
   "source": [
    "# Load the data \n",
    "\n",
    "customers_df = pd.read_csv('Customers.csv')\n",
    "products_df = pd.read_csv('Products.csv')\n",
    "transactions_df = pd.read_csv('Transactions.csv')"
   ]
  },
  {
   "cell_type": "code",
   "execution_count": 3,
   "id": "b2b42f50-a100-4fd3-9f94-11850bc865ad",
   "metadata": {},
   "outputs": [],
   "source": [
    "# Inspect first few rows of all datasets"
   ]
  },
  {
   "cell_type": "code",
   "execution_count": 4,
   "id": "33d24372-bfb4-44be-9e68-84505d6a331e",
   "metadata": {},
   "outputs": [
    {
     "name": "stdout",
     "output_type": "stream",
     "text": [
      "  CustomerID        CustomerName         Region  SignupDate\n",
      "0      C0001    Lawrence Carroll  South America  2022-07-10\n",
      "1      C0002      Elizabeth Lutz           Asia  2022-02-13\n",
      "2      C0003      Michael Rivera  South America  2024-03-07\n",
      "3      C0004  Kathleen Rodriguez  South America  2022-10-09\n",
      "4      C0005         Laura Weber           Asia  2022-08-15\n"
     ]
    }
   ],
   "source": [
    "print(customers_df.head())   # first 5 rows of customer dataset"
   ]
  },
  {
   "cell_type": "code",
   "execution_count": 5,
   "id": "38eb9e4d-7ae4-497a-a3e8-7e0a9cd410ab",
   "metadata": {},
   "outputs": [
    {
     "name": "stdout",
     "output_type": "stream",
     "text": [
      "  ProductID              ProductName     Category   Price\n",
      "0      P001     ActiveWear Biography        Books  169.30\n",
      "1      P002    ActiveWear Smartwatch  Electronics  346.30\n",
      "2      P003  ComfortLiving Biography        Books   44.12\n",
      "3      P004            BookWorld Rug   Home Decor   95.69\n",
      "4      P005          TechPro T-Shirt     Clothing  429.31\n"
     ]
    }
   ],
   "source": [
    "print(products_df.head())     # first 5 rows of products dataset"
   ]
  },
  {
   "cell_type": "code",
   "execution_count": 6,
   "id": "fe9867ce-5716-4241-8ea0-5295ce0c9100",
   "metadata": {},
   "outputs": [
    {
     "name": "stdout",
     "output_type": "stream",
     "text": [
      "  TransactionID CustomerID ProductID      TransactionDate  Quantity  \\\n",
      "0        T00001      C0199      P067  2024-08-25 12:38:23         1   \n",
      "1        T00112      C0146      P067  2024-05-27 22:23:54         1   \n",
      "2        T00166      C0127      P067  2024-04-25 07:38:55         1   \n",
      "3        T00272      C0087      P067  2024-03-26 22:55:37         2   \n",
      "4        T00363      C0070      P067  2024-03-21 15:10:10         3   \n",
      "\n",
      "   TotalValue   Price  \n",
      "0      300.68  300.68  \n",
      "1      300.68  300.68  \n",
      "2      300.68  300.68  \n",
      "3      601.36  300.68  \n",
      "4      902.04  300.68  \n"
     ]
    }
   ],
   "source": [
    "print(transactions_df.head())  # first 5 rows of transaction dataset"
   ]
  },
  {
   "cell_type": "code",
   "execution_count": 7,
   "id": "f43c9782-cbcd-4260-98bd-6f7b08df0a53",
   "metadata": {},
   "outputs": [
    {
     "name": "stdout",
     "output_type": "stream",
     "text": [
      "<class 'pandas.core.frame.DataFrame'>\n",
      "RangeIndex: 200 entries, 0 to 199\n",
      "Data columns (total 4 columns):\n",
      " #   Column        Non-Null Count  Dtype \n",
      "---  ------        --------------  ----- \n",
      " 0   CustomerID    200 non-null    object\n",
      " 1   CustomerName  200 non-null    object\n",
      " 2   Region        200 non-null    object\n",
      " 3   SignupDate    200 non-null    object\n",
      "dtypes: object(4)\n",
      "memory usage: 6.4+ KB\n",
      "None\n"
     ]
    }
   ],
   "source": [
    "print(customers_df.info())"
   ]
  },
  {
   "cell_type": "code",
   "execution_count": 8,
   "id": "8967cc54-e8ae-4bb8-a7c0-3ba6edfa9bf4",
   "metadata": {},
   "outputs": [
    {
     "name": "stdout",
     "output_type": "stream",
     "text": [
      "<class 'pandas.core.frame.DataFrame'>\n",
      "RangeIndex: 100 entries, 0 to 99\n",
      "Data columns (total 4 columns):\n",
      " #   Column       Non-Null Count  Dtype  \n",
      "---  ------       --------------  -----  \n",
      " 0   ProductID    100 non-null    object \n",
      " 1   ProductName  100 non-null    object \n",
      " 2   Category     100 non-null    object \n",
      " 3   Price        100 non-null    float64\n",
      "dtypes: float64(1), object(3)\n",
      "memory usage: 3.3+ KB\n",
      "None\n"
     ]
    }
   ],
   "source": [
    "print(products_df.info())"
   ]
  },
  {
   "cell_type": "code",
   "execution_count": 9,
   "id": "10c71cee-2f08-42ee-9940-04952555b4d2",
   "metadata": {},
   "outputs": [
    {
     "name": "stdout",
     "output_type": "stream",
     "text": [
      "<class 'pandas.core.frame.DataFrame'>\n",
      "RangeIndex: 1000 entries, 0 to 999\n",
      "Data columns (total 7 columns):\n",
      " #   Column           Non-Null Count  Dtype  \n",
      "---  ------           --------------  -----  \n",
      " 0   TransactionID    1000 non-null   object \n",
      " 1   CustomerID       1000 non-null   object \n",
      " 2   ProductID        1000 non-null   object \n",
      " 3   TransactionDate  1000 non-null   object \n",
      " 4   Quantity         1000 non-null   int64  \n",
      " 5   TotalValue       1000 non-null   float64\n",
      " 6   Price            1000 non-null   float64\n",
      "dtypes: float64(2), int64(1), object(4)\n",
      "memory usage: 54.8+ KB\n",
      "None\n"
     ]
    }
   ],
   "source": [
    "print(transactions_df.info())"
   ]
  },
  {
   "cell_type": "code",
   "execution_count": 10,
   "id": "1cccf2bb-0961-4631-a722-3ce8db0df658",
   "metadata": {},
   "outputs": [],
   "source": [
    "# EDA : Exploratory Data Analysis\n",
    "\n",
    "# Basic statistics for data distribution"
   ]
  },
  {
   "cell_type": "code",
   "execution_count": 11,
   "id": "ceb5ac05-fca4-4060-9e0d-076d1f8c6769",
   "metadata": {},
   "outputs": [
    {
     "name": "stdout",
     "output_type": "stream",
     "text": [
      "       CustomerID      CustomerName         Region  SignupDate\n",
      "count         200               200            200         200\n",
      "unique        200               200              4         179\n",
      "top         C0001  Lawrence Carroll  South America  2024-11-11\n",
      "freq            1                 1             59           3\n"
     ]
    }
   ],
   "source": [
    "print(customers_df.describe())"
   ]
  },
  {
   "cell_type": "code",
   "execution_count": 12,
   "id": "bd372fdf-526e-483b-bed4-3f2f8d63263d",
   "metadata": {},
   "outputs": [
    {
     "name": "stdout",
     "output_type": "stream",
     "text": [
      "            Price\n",
      "count  100.000000\n",
      "mean   267.551700\n",
      "std    143.219383\n",
      "min     16.080000\n",
      "25%    147.767500\n",
      "50%    292.875000\n",
      "75%    397.090000\n",
      "max    497.760000\n"
     ]
    }
   ],
   "source": [
    "print(products_df.describe())"
   ]
  },
  {
   "cell_type": "code",
   "execution_count": 13,
   "id": "92496595-955c-4f18-afc2-c1207498d110",
   "metadata": {},
   "outputs": [
    {
     "name": "stdout",
     "output_type": "stream",
     "text": [
      "          Quantity   TotalValue       Price\n",
      "count  1000.000000  1000.000000  1000.00000\n",
      "mean      2.537000   689.995560   272.55407\n",
      "std       1.117981   493.144478   140.73639\n",
      "min       1.000000    16.080000    16.08000\n",
      "25%       2.000000   295.295000   147.95000\n",
      "50%       3.000000   588.880000   299.93000\n",
      "75%       4.000000  1011.660000   404.40000\n",
      "max       4.000000  1991.040000   497.76000\n"
     ]
    }
   ],
   "source": [
    "print(transactions_df.describe())"
   ]
  },
  {
   "cell_type": "code",
   "execution_count": 14,
   "id": "467b113f-3481-4ee4-acd6-e11c57054872",
   "metadata": {},
   "outputs": [],
   "source": [
    "# Check for missing values & make count of null values"
   ]
  },
  {
   "cell_type": "code",
   "execution_count": 15,
   "id": "bf24eb0e-5d2d-4d4e-a329-1b6fc030bd3a",
   "metadata": {},
   "outputs": [
    {
     "name": "stdout",
     "output_type": "stream",
     "text": [
      "CustomerID      0\n",
      "CustomerName    0\n",
      "Region          0\n",
      "SignupDate      0\n",
      "dtype: int64\n"
     ]
    }
   ],
   "source": [
    "print(customers_df.isnull().sum()) "
   ]
  },
  {
   "cell_type": "code",
   "execution_count": 16,
   "id": "895c0b84-c219-4c43-aa29-881707469f6c",
   "metadata": {},
   "outputs": [
    {
     "name": "stdout",
     "output_type": "stream",
     "text": [
      "ProductID      0\n",
      "ProductName    0\n",
      "Category       0\n",
      "Price          0\n",
      "dtype: int64\n"
     ]
    }
   ],
   "source": [
    "print(products_df.isnull().sum())"
   ]
  },
  {
   "cell_type": "code",
   "execution_count": 17,
   "id": "9601cea4-28f2-4cdc-903b-65f170d55fe9",
   "metadata": {},
   "outputs": [
    {
     "name": "stdout",
     "output_type": "stream",
     "text": [
      "TransactionID      0\n",
      "CustomerID         0\n",
      "ProductID          0\n",
      "TransactionDate    0\n",
      "Quantity           0\n",
      "TotalValue         0\n",
      "Price              0\n",
      "dtype: int64\n"
     ]
    }
   ],
   "source": [
    "print(transactions_df.isnull().sum())"
   ]
  },
  {
   "cell_type": "code",
   "execution_count": 18,
   "id": "84d2dbd1-abb8-4be9-8d61-7a23a75b8f34",
   "metadata": {},
   "outputs": [
    {
     "name": "stdout",
     "output_type": "stream",
     "text": [
      "  TransactionID CustomerID ProductID      TransactionDate  Quantity  \\\n",
      "0        T00001      C0199      P067  2024-08-25 12:38:23         1   \n",
      "1        T00112      C0146      P067  2024-05-27 22:23:54         1   \n",
      "2        T00166      C0127      P067  2024-04-25 07:38:55         1   \n",
      "3        T00272      C0087      P067  2024-03-26 22:55:37         2   \n",
      "4        T00363      C0070      P067  2024-03-21 15:10:10         3   \n",
      "\n",
      "   TotalValue  Price_x     CustomerName         Region  SignupDate  \\\n",
      "0      300.68   300.68   Andrea Jenkins         Europe  2022-12-03   \n",
      "1      300.68   300.68  Brittany Harvey           Asia  2024-09-04   \n",
      "2      300.68   300.68  Kathryn Stevens         Europe  2024-04-04   \n",
      "3      601.36   300.68  Travis Campbell  South America  2024-04-11   \n",
      "4      902.04   300.68    Timothy Perez         Europe  2022-03-15   \n",
      "\n",
      "                       ProductName     Category  Price_y  \n",
      "0  ComfortLiving Bluetooth Speaker  Electronics   300.68  \n",
      "1  ComfortLiving Bluetooth Speaker  Electronics   300.68  \n",
      "2  ComfortLiving Bluetooth Speaker  Electronics   300.68  \n",
      "3  ComfortLiving Bluetooth Speaker  Electronics   300.68  \n",
      "4  ComfortLiving Bluetooth Speaker  Electronics   300.68  \n"
     ]
    }
   ],
   "source": [
    "# Merge DataFrames: \n",
    "# It will include information from all three original Dataframe based on matching CustomerID and ProductID\n",
    "\n",
    "merged_df = transactions_df.merge(customers_df, on='CustomerID').merge(products_df, on='ProductID')\n",
    "print(merged_df.head())"
   ]
  },
  {
   "cell_type": "code",
   "execution_count": 19,
   "id": "30bb387b-c3b9-48b4-bde6-93941c585631",
   "metadata": {},
   "outputs": [
    {
     "name": "stdout",
     "output_type": "stream",
     "text": [
      "Region\n",
      "South America    59\n",
      "Europe           50\n",
      "North America    46\n",
      "Asia             45\n",
      "Name: count, dtype: int64\n"
     ]
    }
   ],
   "source": [
    "# Distribution of customers on the basis of region\n",
    "print(customers_df['Region'].value_counts())"
   ]
  },
  {
   "cell_type": "code",
   "execution_count": 20,
   "id": "fbdca5dc-8c18-48d9-9484-1d94c7968665",
   "metadata": {},
   "outputs": [
    {
     "name": "stdout",
     "output_type": "stream",
     "text": [
      "Category\n",
      "Books          26\n",
      "Electronics    26\n",
      "Clothing       25\n",
      "Home Decor     23\n",
      "Name: count, dtype: int64\n"
     ]
    }
   ],
   "source": [
    "# Distribution of product categories\n",
    "print(products_df['Category'].value_counts())"
   ]
  },
  {
   "cell_type": "code",
   "execution_count": 21,
   "id": "da33388b-934e-402e-8624-c9836613e60d",
   "metadata": {},
   "outputs": [
    {
     "name": "stdout",
     "output_type": "stream",
     "text": [
      "TransactionDate\n",
      "2024-08-25 12:38:23    1\n",
      "2024-01-03 04:06:49    1\n",
      "2024-10-08 23:58:14    1\n",
      "2024-04-30 17:03:34    1\n",
      "2024-03-23 00:07:54    1\n",
      "                      ..\n",
      "2024-01-13 10:46:55    1\n",
      "2024-01-12 17:34:27    1\n",
      "2024-07-30 11:43:57    1\n",
      "2024-11-08 12:43:10    1\n",
      "2024-04-21 10:52:24    1\n",
      "Name: count, Length: 1000, dtype: int64\n"
     ]
    }
   ],
   "source": [
    "# Transaction patterns\n",
    "print(transactions_df['TransactionDate'].value_counts())"
   ]
  },
  {
   "cell_type": "code",
   "execution_count": 22,
   "id": "a7faa0f0-c377-4bd9-8dd0-6ded4ce236b8",
   "metadata": {},
   "outputs": [
    {
     "name": "stdout",
     "output_type": "stream",
     "text": [
      "ProductName\n",
      "ActiveWear Smartwatch          39096.97\n",
      "SoundWave Headphones           25211.64\n",
      "SoundWave Novel                24507.90\n",
      "ActiveWear Jacket              22712.56\n",
      "ActiveWear Rug                 22314.43\n",
      "                                 ...   \n",
      "ComfortLiving Desk Lamp         1694.16\n",
      "SoundWave Bluetooth Speaker     1223.22\n",
      "ComfortLiving Rug               1063.81\n",
      "ActiveWear T-Shirt               795.34\n",
      "ComfortLiving Laptop             647.76\n",
      "Name: TotalValue, Length: 66, dtype: float64\n"
     ]
    }
   ],
   "source": [
    "# Total sales for each product in Descending order\n",
    "\n",
    "total_sales_per_product = merged_df.groupby('ProductName')['TotalValue'].sum().sort_values(ascending=False)\n",
    "print(total_sales_per_product)"
   ]
  },
  {
   "cell_type": "code",
   "execution_count": 23,
   "id": "f6fc0d94-8f48-4ce0-a267-f6c145e5c493",
   "metadata": {},
   "outputs": [
    {
     "name": "stdout",
     "output_type": "stream",
     "text": [
      "Region\n",
      "South America    219352.56\n",
      "Europe           166254.63\n",
      "North America    152313.40\n",
      "Asia             152074.97\n",
      "Name: TotalValue, dtype: float64\n"
     ]
    }
   ],
   "source": [
    "# Total sales for each region\n",
    "total_sales_per_region = merged_df.groupby('Region')['TotalValue'].sum().sort_values(ascending=False)\n",
    "print(total_sales_per_region)"
   ]
  },
  {
   "cell_type": "code",
   "execution_count": 24,
   "id": "4a9e978e-2f6e-410b-8c6e-370a6ea6006a",
   "metadata": {},
   "outputs": [
    {
     "name": "stdout",
     "output_type": "stream",
     "text": [
      "SignupDate\n",
      "2022-01-22    1\n",
      "2022-02-02    1\n",
      "2022-02-10    1\n",
      "2022-02-13    2\n",
      "2022-02-19    1\n",
      "             ..\n",
      "2024-11-13    2\n",
      "2024-11-15    1\n",
      "2024-11-18    1\n",
      "2024-11-22    2\n",
      "2024-12-28    1\n",
      "Name: count, Length: 179, dtype: int64\n"
     ]
    }
   ],
   "source": [
    "# Analyze trends in Customer signup over time\n",
    "customer_signup_trend = customers_df['SignupDate'].value_counts().sort_index()\n",
    "print(customer_signup_trend)"
   ]
  }
 ],
 "metadata": {
  "kernelspec": {
   "display_name": "Python 3 (ipykernel)",
   "language": "python",
   "name": "python3"
  },
  "language_info": {
   "codemirror_mode": {
    "name": "ipython",
    "version": 3
   },
   "file_extension": ".py",
   "mimetype": "text/x-python",
   "name": "python",
   "nbconvert_exporter": "python",
   "pygments_lexer": "ipython3",
   "version": "3.12.4"
  }
 },
 "nbformat": 4,
 "nbformat_minor": 5
}
